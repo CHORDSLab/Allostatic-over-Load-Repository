{
 "cells": [
  {
   "cell_type": "markdown",
   "metadata": {},
   "source": [
    "# NIH *All of Us* Allostatic (over)Load Dataset Construction\n",
    "**CHORDS Lab – Washington State University**  \n",
    "**Authors:** Shawna Beese, Trey DeJong, Jason Cross  \n",
    "**Last updated:** 2025-08-15\n",
    "\n",
    "---\n",
    "\n",
    "## Overview\n",
    "\n",
    "This Jupyter notebook walks through the construction of a clean, analysis-ready allostatic (over)load dataset using biomarker and demographic data. The notebook extracts key measures including:\n",
    "\n",
    "- C-reactive protein (CRP)  \n",
    "- HDL cholesterol  \n",
    "- Hemoglobin A1c (A1C)  \n",
    "- Heart rate  \n",
    "- Waist/height ratio  \n",
    "\n",
    "It removes outliers and merges these measures with demographic variables, including age, sex at birth, gender, race, and ethnicity.\n",
    "\n",
    "Binary and ordinal allostatic load scores are derived from these measures, providing ready-to-use outcomes for downstream analyses. The notebook also calculates age at measurement and generates a summary table of demographic characteristics by sex.\n",
    "\n",
    "⚠️ **Note:** This notebook requires access to the NIH *All of Us* Researcher Workbench and is intended **only** for use within that secure environment. See [NIH_All_of_Us_access_guide.md](`NIH_All_of_Us_access_guide.md`) for details on becoming a registered NIH *All of Us* researcher.\n",
    "\n",
    "This notebook relies on the R packages `dplyr`, `tidyr`, `misty`, `eeptools`, and `table1`.\n"
   ]
  },
  {
   "cell_type": "markdown",
   "metadata": {},
   "source": [
    "## Setup and Biomarker Extraction"
   ]
  },
  {
   "cell_type": "markdown",
   "metadata": {},
   "source": [
    "### Setup and Initial Libraries\n",
    "Load necessary R packages (`tidyr`, `dplyr`, `misty`) and prepare the dataset for biomarker analysis."
   ]
  },
  {
   "cell_type": "code",
   "execution_count": null,
   "metadata": {
    "vscode": {
     "languageId": "r"
    }
   },
   "outputs": [],
   "source": [
    "install.packages(c(\"tidyr\", \"dplyr\", \"misty\"))\n",
    "\n",
    "library(tidyr)\n",
    "library(dplyr)\n",
    "library(misty)"
   ]
  },
  {
   "cell_type": "markdown",
   "metadata": {},
   "source": [
    "### Extract and Process CRP Measurements\n",
    "Filter the dataset for C-reactive protein measurements. \n",
    "For each person, identify the most recent measurement, remove data older than 1 year, and calculate per-person mean values. \n",
    "Check basic statistics using `misty::descript`.\n"
   ]
  },
  {
   "cell_type": "code",
   "execution_count": null,
   "metadata": {
    "vscode": {
     "languageId": "r"
    }
   },
   "outputs": [],
   "source": [
    "CRP = dataset_XXXXXXXX_measurement_df[dataset_XXXXXXXX_measurement_df$standard_concept_name == \n",
    "                                      \"C reactive protein [Mass/volume] in Serum or Plasma\",]\n",
    "CRP = CRP%>%group_by(person_id)%>%mutate(recent_datetime = max(measurement_datetime))\n",
    "CRP$greater_year_ago<-difftime(CRP$recent_datetime, CRP$measurement_datetime)>360\n",
    "CRP$less_three_apart<-difftime(CRP$recent_datetime, CRP$measurement_datetime)\n",
    "CRP_trim1 = CRP[!CRP$greater_year_ago,]\n",
    "CRP_value_means<-CRP_trim1%>%summarise(counts = n(),mean_val = mean(value_as_number))\n",
    "head(CRP_value_means)\n",
    "misty::descript(CRP_value_means$mean_val)"
   ]
  },
  {
   "cell_type": "markdown",
   "metadata": {},
   "source": [
    "### Remove CRP Outliers\n",
    "Filter out extreme CRP values using ±4 SD from the mean to create a cleaned dataset. \n",
    "Ensure each person_id is unique and rename columns for clarity.\n"
   ]
  },
  {
   "cell_type": "code",
   "execution_count": null,
   "metadata": {
    "vscode": {
     "languageId": "r"
    }
   },
   "outputs": [],
   "source": [
    "#save CRP dataframe with outliers removed\n",
    "library(dplyr)\n",
    "\n",
    "CRP_OR <- CRP_filtered %>%\n",
    "  group_by(person_id) %>% \n",
    "  summarise(mean_val = mean(mean_val, na.rm = TRUE), counts = n()) %>%\n",
    "  ungroup() %>%\n",
    "  filter(\n",
    "    mean_val < mean(mean_val, na.rm = TRUE) + 4 * sd(mean_val, na.rm = TRUE) &\n",
    "    mean_val > mean(mean_val, na.rm = TRUE) - 4 * sd(mean_val, na.rm = TRUE)\n",
    "  )\n",
    "\n",
    "# Check duplicate person_id counts\n",
    "sum(duplicated(CRP_OR$person_id))\n",
    "\n",
    "#re-label and reduce data object\n",
    "colnames(CRP_OR)=c('person_id','CRP','counts')\n",
    "misty::descript(CRP_OR)\n",
    "CRP_OR=CRP_OR[,-3]\n",
    "colnames(CRP_OR)\n",
    "sum(duplicated(CRP_OR$person_id))"
   ]
  },
  {
   "cell_type": "markdown",
   "metadata": {},
   "source": [
    "### Extract and Process HDL Measurements\n",
    "Filter for HDL cholesterol, keep measurements within 1 year, calculate per-person mean, and remove outliers using ±4 SD.\n"
   ]
  },
  {
   "cell_type": "code",
   "execution_count": null,
   "metadata": {
    "vscode": {
     "languageId": "r"
    }
   },
   "outputs": [],
   "source": [
    "HDL <- dataset_XXXXXXXX_measurement_df %>%\n",
    "  filter(standard_concept_name == \"Cholesterol in HDL [Mass/volume] in Serum or Plasma\") %>%\n",
    "  select(person_id, value_as_number, measurement_datetime) %>%\n",
    "  group_by(person_id) %>%\n",
    "  mutate(recent_datetime = max(measurement_datetime)) %>%  # Find most recent measurement per person\n",
    "  filter(difftime(recent_datetime, measurement_datetime, units = \"days\") <= 365) %>%  # Keep measurements within 1 year\n",
    "  summarise(counts = n(), mean_val = mean(value_as_number, na.rm = TRUE)) %>%  # Compute mean and count per person\n",
    "  ungroup()\n",
    "\n",
    "head(HDL)\n",
    "misty::descript(HDL)"
   ]
  },
  {
   "cell_type": "code",
   "execution_count": null,
   "metadata": {
    "vscode": {
     "languageId": "r"
    }
   },
   "outputs": [],
   "source": [
    "HDL_OR <- HDL %>%\n",
    "  group_by(person_id) %>%\n",
    "  summarise(mean_val = mean(mean_val, na.rm = TRUE)) %>%\n",
    "  ungroup() %>%\n",
    "  filter(\n",
    "    mean_val < mean(mean_val, na.rm = TRUE) + 4 * sd(mean_val, na.rm = TRUE) &\n",
    "    mean_val > mean(mean_val, na.rm = TRUE) - 4 * sd(mean_val, na.rm = TRUE)\n",
    "  )\n",
    "\n",
    "head(HDL_OR)\n",
    "sum(duplicated(HDL_OR$person_id))\n",
    "colnames(HDL_OR)=c('person_id','HDL')\n",
    "misty::descript(HDL_OR)"
   ]
  },
  {
   "cell_type": "markdown",
   "metadata": {},
   "source": [
    "### Extract and Process A1C Measurements\n",
    "Filter for Hemoglobin A1c, keep recent measurements, compute mean per person, and remove outliers.\n"
   ]
  },
  {
   "cell_type": "code",
   "execution_count": null,
   "metadata": {
    "vscode": {
     "languageId": "r"
    }
   },
   "outputs": [],
   "source": [
    "A1C <- dataset_XXXXXXXX_measurement_df %>%\n",
    "  filter(standard_concept_name == \"Hemoglobin A1c/Hemoglobin.total in Blood\") %>%\n",
    "  select(person_id, value_as_number, measurement_datetime) %>%\n",
    "  group_by(person_id) %>%\n",
    "  mutate(recent_datetime = max(measurement_datetime)) %>%\n",
    "  filter(difftime(recent_datetime, measurement_datetime, units = \"days\") <= 365) %>%\n",
    "  summarise(counts = n(), mean_val = mean(value_as_number, na.rm = TRUE)) %>%\n",
    "  ungroup()\n",
    "\n",
    "head(A1C)\n",
    "misty::descript(A1C)"
   ]
  },
  {
   "cell_type": "code",
   "execution_count": null,
   "metadata": {
    "vscode": {
     "languageId": "r"
    }
   },
   "outputs": [],
   "source": [
    "A1C_OR <- A1C %>%\n",
    "  group_by(person_id) %>%\n",
    "  summarise(mean_val = mean(mean_val, na.rm = TRUE)) %>%\n",
    "  ungroup() %>%\n",
    "  filter(\n",
    "    mean_val < mean(mean_val, na.rm = TRUE) + 4 * sd(mean_val, na.rm = TRUE) &\n",
    "    mean_val > mean(mean_val, na.rm = TRUE) - 4 * sd(mean_val, na.rm = TRUE)\n",
    "  )\n",
    "\n",
    "# Check for duplicate person_ids\n",
    "sum(duplicated(A1C_OR$person_id))\n",
    "colnames(A1C_OR)=c('person_id','A1C')\n",
    "misty::descript(A1C_OR)"
   ]
  },
  {
   "cell_type": "markdown",
   "metadata": {},
   "source": [
    "## Waist/Height Ratio and Heart Rate"
   ]
  },
  {
   "cell_type": "markdown",
   "metadata": {},
   "source": [
    "### Extract Waist and Height Measurements\n",
    "Select waist circumference and height measurements to calculate waist-to-height ratios later. \n",
    "Outliers are not removed at this stage.\n"
   ]
  },
  {
   "cell_type": "code",
   "execution_count": null,
   "metadata": {
    "vscode": {
     "languageId": "r"
    }
   },
   "outputs": [],
   "source": [
    "#extract waist and Body height rows - no outliers removed\n",
    "Waist = dataset_XXXXXXXX_measurement_df[dataset_XXXXXXXX_measurement_df$standard_concept_name == \n",
    "                                     \"Computed waist circumference, mean of closest two measures\",\n",
    "                                    c('person_id','value_as_number')]\n",
    "colnames(Waist)=c('person_id','Waist')\n",
    "misty::descript(Waist)\n",
    "\n",
    "Height = dataset_XXXXXXXX_measurement_df[dataset_XXXXXXXX_measurement_df$standard_concept_name == \n",
    "                                     \"Body height\",\n",
    "                                    c('person_id','value_as_number')]\n",
    "colnames(Height)=c('person_id','Height')\n",
    "misty::descript(Height)"
   ]
  },
  {
   "cell_type": "markdown",
   "metadata": {},
   "source": [
    "### Calculate Waist-to-Height Ratio\n",
    "Merge waist and height data and compute the waist/height ratio for each person.\n"
   ]
  },
  {
   "cell_type": "code",
   "execution_count": null,
   "metadata": {
    "vscode": {
     "languageId": "r"
    }
   },
   "outputs": [],
   "source": [
    "#calculate waist/Height ratio\n",
    "WaistHeight=merge(Waist,Height,by=\"person_id\")\n",
    "WaistHeight$WaistHeight=WaistHeight$Waist/WaistHeight$Height\n",
    "misty::descript(WaistHeight)"
   ]
  },
  {
   "cell_type": "markdown",
   "metadata": {},
   "source": [
    "### Remove Waist/Height Outliers\n",
    "Clean the waist/height ratio data by removing extreme values using ±4 SD.\n"
   ]
  },
  {
   "cell_type": "code",
   "execution_count": null,
   "metadata": {
    "vscode": {
     "languageId": "r"
    }
   },
   "outputs": [],
   "source": [
    "WaistHeight_OR <- WaistHeight %>%\n",
    "  group_by(person_id) %>%\n",
    "  summarise(mean_WaistHeight = mean(WaistHeight, na.rm = TRUE)) %>%\n",
    "  ungroup() %>%\n",
    "  filter(\n",
    "    mean_WaistHeight < mean(mean_WaistHeight, na.rm = TRUE) + 4 * sd(mean_WaistHeight, na.rm = TRUE) &\n",
    "    mean_WaistHeight > mean(mean_WaistHeight, na.rm = TRUE) - 4 * sd(mean_WaistHeight, na.rm = TRUE)\n",
    "  )\n",
    "\n",
    "# Check for duplicates\n",
    "sum(duplicated(WaistHeight_OR$person_id))\n",
    "colnames(WaistHeight_OR)=c('person_id','WaistHeight')\n",
    "misty::descript(WaistHeight_OR)"
   ]
  },
  {
   "cell_type": "markdown",
   "metadata": {},
   "source": [
    "### Extract Heart Rate Measurements\n",
    "Select mean heart rate measurements (2nd and 3rd measures). \n"
   ]
  },
  {
   "cell_type": "code",
   "execution_count": null,
   "metadata": {
    "vscode": {
     "languageId": "r"
    }
   },
   "outputs": [],
   "source": [
    "#extract heart rate rows - no outliers removed\n",
    "HR = dataset_XXXXXXXX_measurement_df[dataset_XXXXXXXX_measurement_df$standard_concept_name == \n",
    "                                     \"Computed heart rate, mean of 2nd and 3rd measures\",\n",
    "                                    c('person_id','value_as_number')]\n",
    "colnames(HR)=c('person_id','HR')\n",
    "misty::descript(HR)"
   ]
  },
  {
   "cell_type": "markdown",
   "metadata": {},
   "source": [
    "### Remove Heart Rate Outliers\n",
    "Clean heart rate data using ±4 SD and save for analysis.\n"
   ]
  },
  {
   "cell_type": "code",
   "execution_count": null,
   "metadata": {
    "vscode": {
     "languageId": "r"
    }
   },
   "outputs": [],
   "source": [
    "#remove HR outliers and save\n",
    "\n",
    "HR_OR <- HR %>%\n",
    "  group_by(person_id) %>%\n",
    "  summarise(mean_HR = mean(HR, na.rm = TRUE)) %>%\n",
    "  ungroup() %>%\n",
    "  filter(\n",
    "    mean_HR < mean(mean_HR, na.rm = TRUE) + 4 * sd(mean_HR, na.rm = TRUE) &\n",
    "    mean_HR > mean(mean_HR, na.rm = TRUE) - 4 * sd(mean_HR, na.rm = TRUE)\n",
    "  )\n",
    "\n",
    "# Check duplicate person_id counts\n",
    "sum(duplicated(HR_OR$person_id))\n",
    "colnames(HR_OR)=c('person_id','HR')\n",
    "misty::descript(HR_OR)"
   ]
  },
  {
   "cell_type": "markdown",
   "metadata": {},
   "source": [
    "### Prepare Measurement Dates\n",
    "Create a dataset linking person_id with measurement dates.\n"
   ]
  },
  {
   "cell_type": "code",
   "execution_count": null,
   "metadata": {
    "vscode": {
     "languageId": "r"
    }
   },
   "outputs": [],
   "source": [
    "colnames(dataset_XXXXXXXX_measurement_df)"
   ]
  },
  {
   "cell_type": "code",
   "execution_count": null,
   "metadata": {
    "vscode": {
     "languageId": "r"
    }
   },
   "outputs": [],
   "source": [
    "MeasureDate = cbind(dataset_XXXXXXXX_measurement_df$person_id, \n",
    "                   dataset_XXXXXXXX_measurement_df$measurement_datetime)\n",
    "\n",
    "colnames(MeasureDate)=c('person_id','MeasureDate')\n",
    "head(MeasureDate)"
   ]
  },
  {
   "cell_type": "markdown",
   "metadata": {},
   "source": [
    "### Merge All Biomarkers into One Dataset (AL5)\n",
    "Combine cleaned CRP, HDL, A1C, heart rate, and waist/height data into a single allostatic load dataset.\n"
   ]
  },
  {
   "cell_type": "code",
   "execution_count": null,
   "metadata": {
    "vscode": {
     "languageId": "r"
    }
   },
   "outputs": [],
   "source": [
    "#merge allostatic load measures\n",
    "A = merge(CRP_OR,HR_OR,by = 'person_id')\n",
    "B = merge(A,HDL_OR,by='person_id')\n",
    "C = merge(B,WaistHeight_OR,by='person_id')\n",
    "AL5 = merge(C,A1C_OR,by='person_id')\n",
    "misty::descript(AL5)"
   ]
  },
  {
   "cell_type": "code",
   "execution_count": null,
   "metadata": {
    "vscode": {
     "languageId": "r"
    }
   },
   "outputs": [],
   "source": [
    "sum(duplicated(AL5$person_id))"
   ]
  },
  {
   "cell_type": "code",
   "execution_count": null,
   "metadata": {
    "vscode": {
     "languageId": "r"
    }
   },
   "outputs": [],
   "source": [
    "head(AL5)"
   ]
  },
  {
   "cell_type": "markdown",
   "metadata": {},
   "source": [
    "## Allostatic Load Scores"
   ]
  },
  {
   "cell_type": "markdown",
   "metadata": {},
   "source": [
    "### Create Allostatic Load Scores\n",
    "Convert biomarkers to binary “high-risk” flags based on quartiles.\n",
    "Sum the flags for an ordinal allostatic load score and create a binary “high AL” indicator.\n"
   ]
  },
  {
   "cell_type": "code",
   "execution_count": null,
   "metadata": {
    "vscode": {
     "languageId": "r"
    }
   },
   "outputs": [],
   "source": [
    "###create Allostatic ordinal and binary\n",
    "#top quartile for AL5 items\n",
    "#calculate thresholds\n",
    "CRP_quart=quantile(AL5$CRP,probs=.75,na.rm=T)\n",
    "HR_quart=quantile(AL5$HR,probs=.75,na.rm=T)\n",
    "HDL_quart=quantile(AL5$HDL,probs=.25,na.rm=T)\n",
    "WaistHeight_quart=quantile(AL5$WaistHeight,probs=.75,na.rm=T)\n",
    "A1C_quart=quantile(AL5$A1C,probs=.75,na.rm=T)\n",
    "#recode items to binary\n",
    "AL5$CRP_load=ifelse(AL5$CRP>CRP_quart,1,0)\n",
    "AL5$HR_load=ifelse(AL5$HR>HR_quart,1,0)\n",
    "AL5$HDL_load=ifelse(AL5$HDL<HDL_quart,1,0)\n",
    "AL5$WaistHeight_load=ifelse(AL5$WaistHeight>WaistHeight_quart,1,0)\n",
    "AL5$A1C_load=ifelse(AL5$A1C>A1C_quart,1,0)\n",
    "#sum for allostatic ordinal\n",
    "AL5$AL5_sum=AL5$CRP_load+AL5$HR_load+AL5$HDL_load+\n",
    "    AL5$WaistHeight_load+AL5$A1C_load\n",
    "#make > 2 high allostatic load for binary\n",
    "AL5$AL5_high=ifelse(AL5$AL5_sum>2,1,0)\n",
    "\n",
    "misty::descript(AL5[,c('CRP_load','HR_load','HDL_load','WaistHeight_load','A1C_load','AL5_sum',\n",
    "                                'AL5_high')])\n",
    "colnames(AL5)"
   ]
  },
  {
   "cell_type": "markdown",
   "metadata": {},
   "source": [
    "## Demographics and Final Preparation"
   ]
  },
  {
   "cell_type": "markdown",
   "metadata": {},
   "source": [
    "### Merge Demographics with Measurements\n",
    "Combine measurement dates and AL5 scores with demographic information for each person.\n"
   ]
  },
  {
   "cell_type": "code",
   "execution_count": null,
   "metadata": {
    "vscode": {
     "languageId": "r"
    }
   },
   "outputs": [],
   "source": [
    "DemoMeasureDate <-merge(MeasureDate, dataset_XXXXXXXX_person_df, by = \"person_id\")\n",
    "DemoAL <-merge(AL5, dataset_XXXXXXXX_person_df, by = \"person_id\")\n",
    "head(DemoMeasureDate)"
   ]
  },
  {
   "cell_type": "markdown",
   "metadata": {},
   "source": [
    "### Remove Duplicate Records\n",
    "Ensure each person_id appears only once to avoid duplication in downstream analysis.\n"
   ]
  },
  {
   "cell_type": "code",
   "execution_count": null,
   "metadata": {
    "vscode": {
     "languageId": "r"
    }
   },
   "outputs": [],
   "source": [
    "clean_DemoMeasureDate <- DemoMeasureDate %>% distinct(person_id, .keep_all = TRUE)\n",
    "nrow(clean_DemoMeasureDate)"
   ]
  },
  {
   "cell_type": "code",
   "execution_count": null,
   "metadata": {
    "scrolled": true,
    "vscode": {
     "languageId": "r"
    }
   },
   "outputs": [],
   "source": [
    "nrow(AL5)"
   ]
  },
  {
   "cell_type": "code",
   "execution_count": null,
   "metadata": {
    "scrolled": true,
    "vscode": {
     "languageId": "r"
    }
   },
   "outputs": [],
   "source": [
    "AL5_DemoReady <- merge(clean_DemoMeasureDate, AL5, by = \"person_id\")\n",
    "nrow(AL5_DemoReady)\n",
    "head(AL5_DemoReady)\n",
    "colnames(AL5_DemoReady)"
   ]
  },
  {
   "cell_type": "markdown",
   "metadata": {},
   "source": [
    "### Calculate Age at Measurement\n",
    "Use `eeptools::age_calc` to compute age at the time of measurement and add to the dataset.\n"
   ]
  },
  {
   "cell_type": "code",
   "execution_count": null,
   "metadata": {
    "vscode": {
     "languageId": "r"
    }
   },
   "outputs": [],
   "source": [
    "install.packages(\"eeptools\")"
   ]
  },
  {
   "cell_type": "code",
   "execution_count": null,
   "metadata": {
    "vscode": {
     "languageId": "r"
    }
   },
   "outputs": [],
   "source": [
    "AL5_Age<- eeptools::age_calc(as.Date(AL5_DemoReady$date_of_birth),\n",
    "                                      as.Date(AL5_DemoReady$MeasureDate),\n",
    "                                      units=\"years\")\n",
    "boxplot(AL5_Age)"
   ]
  },
  {
   "cell_type": "code",
   "execution_count": null,
   "metadata": {
    "vscode": {
     "languageId": "r"
    }
   },
   "outputs": [],
   "source": [
    "AL5_DemoReadyAge <-cbind(AL5_DemoReady, AL5_Age)\n",
    "\n",
    "nrow(AL5_DemoReadyAge)\n",
    "head(AL5_DemoReadyAge)"
   ]
  },
  {
   "cell_type": "markdown",
   "metadata": {},
   "source": [
    "### Create Summary Table\n",
    "Use `table1` to summarize demographics (race, ethnicity, age) stratified by sex. \n",
    "Includes a helper function to display HTML tables in Jupyter notebooks.\n"
   ]
  },
  {
   "cell_type": "code",
   "execution_count": null,
   "metadata": {
    "vscode": {
     "languageId": "r"
    }
   },
   "outputs": [],
   "source": [
    "#Ready<-na.omit(AL5_DemoReadyAge)\n",
    "output <- table1::table1(~ race + ethnicity + AL5_Age | sex_at_birth, data=AL5_DemoReadyAge)\n",
    "\n",
    "require(htmltools)\n",
    "require(IRdisplay)\n",
    "require(table1)\n",
    "\n",
    "display_jupyter <- function(x) {\n",
    "  css <- system.file(\"table1_defaults_1.0/table1_defaults.css\", package=\"table1\")\n",
    "  css <- paste(readLines(css), collapse=\"\\n\")\n",
    "  x <- htmltools::tagList(htmltools::tags$style(css), htmltools::tags$div(class=\"Rtable1\", x))\n",
    "  IRdisplay::display_html(as.character(x))\n",
    "}\n",
    "\n",
    "display_jupyter(output)"
   ]
  }
 ],
 "metadata": {
  "kernelspec": {
   "display_name": "R",
   "language": "R",
   "name": "ir"
  },
  "language_info": {
   "codemirror_mode": "r",
   "file_extension": ".r",
   "mimetype": "text/x-r-source",
   "name": "R",
   "pygments_lexer": "r",
   "version": "4.5.0"
  },
  "toc": {
   "base_numbering": 1,
   "nav_menu": {},
   "number_sections": true,
   "sideBar": true,
   "skip_h1_title": false,
   "title_cell": "Table of Contents",
   "title_sidebar": "Contents",
   "toc_cell": false,
   "toc_position": {},
   "toc_section_display": true,
   "toc_window_display": false
  }
 },
 "nbformat": 4,
 "nbformat_minor": 4
}
